{
 "cells": [
  {
   "cell_type": "markdown",
   "id": "ab450f4b",
   "metadata": {},
   "source": [
    "# Import The Required Model Building Libraries"
   ]
  },
  {
   "cell_type": "code",
   "execution_count": 1,
   "id": "28271818",
   "metadata": {},
   "outputs": [],
   "source": [
    "#import imagedatagenerator\n",
    "from keras.preprocessing.image import ImageDataGenerator"
   ]
  },
  {
   "cell_type": "code",
   "execution_count": 2,
   "id": "cc7b6fbd",
   "metadata": {},
   "outputs": [],
   "source": [
    "#training datagen\n",
    "train_datagen=ImageDataGenerator(rescale=1./255,shear_range=0.2,zoom_range=0.2,horizontal_flip=True)"
   ]
  },
  {
   "cell_type": "code",
   "execution_count": 3,
   "id": "4d28a4d5",
   "metadata": {},
   "outputs": [],
   "source": [
    "#testing datagen\n",
    "test_datagen=ImageDataGenerator(rescale=1./255)"
   ]
  },
  {
   "cell_type": "markdown",
   "id": "7cc52f5d",
   "metadata": {},
   "source": [
    "# IMPORTING tensorflow"
   ]
  },
  {
   "cell_type": "code",
   "execution_count": 4,
   "id": "40efed40",
   "metadata": {},
   "outputs": [],
   "source": [
    "import tensorflow as tf\n",
    "import os"
   ]
  },
  {
   "cell_type": "markdown",
   "id": "53cf08e4",
   "metadata": {},
   "source": [
    "# Initialize The Model"
   ]
  },
  {
   "cell_type": "code",
   "execution_count": 5,
   "id": "fb9ecddd",
   "metadata": {},
   "outputs": [],
   "source": [
    "#create model\n",
    "from keras.models import Sequential\n",
    "from keras.layers import Dense\n",
    "from keras.layers import Convolution2D\n",
    "from keras.layers import MaxPooling2D\n",
    "from keras.layers import Dropout\n",
    "from keras.layers import Flatten \n",
    "from tensorflow.keras.preprocessing.image import ImageDataGenerator"
   ]
  },
  {
   "cell_type": "code",
   "execution_count": 6,
   "id": "b0c1cc9c",
   "metadata": {},
   "outputs": [],
   "source": [
    "import numpy as np\n",
    "import matplotlib.pyplot as plt #to view graph in colab itself\n",
    "import IPython.display as display\n",
    "from PIL import Image\n",
    "import pathlib"
   ]
  },
  {
   "cell_type": "markdown",
   "id": "00d1808f",
   "metadata": {},
   "source": [
    "# Applying ImageDataGenerator to training set"
   ]
  },
  {
   "cell_type": "code",
   "execution_count": 7,
   "id": "71639b13",
   "metadata": {},
   "outputs": [
    {
     "name": "stdout",
     "output_type": "stream",
     "text": [
      "Found 15750 images belonging to 9 classes.\n"
     ]
    }
   ],
   "source": [
    "x_train=train_datagen.flow_from_directory(r\"C:\\Users\\nadee\\Downloads\\conversation engine for deaf and dumb\\Dataset\\training_set\",target_size=(64,64),batch_size=200,\n",
    "                                          class_mode='categorical',color_mode=\"grayscale\")"
   ]
  },
  {
   "cell_type": "markdown",
   "id": "dd50ff26",
   "metadata": {},
   "source": [
    "# Applying ImageDataGenerator to test set\n",
    "\n"
   ]
  },
  {
   "cell_type": "code",
   "execution_count": 8,
   "id": "b38ab724",
   "metadata": {},
   "outputs": [
    {
     "name": "stdout",
     "output_type": "stream",
     "text": [
      "Found 2250 images belonging to 9 classes.\n"
     ]
    }
   ],
   "source": [
    "x_test=test_datagen.flow_from_directory(r\"C:\\Users\\nadee\\Downloads\\conversation engine for deaf and dumb\\Dataset\\test_set\",target_size=(64,64),batch_size=200,\n",
    "                                          class_mode='categorical',color_mode=\"grayscale\")"
   ]
  },
  {
   "cell_type": "code",
   "execution_count": 9,
   "id": "f6d0b5b2",
   "metadata": {},
   "outputs": [],
   "source": [
    "a=len(x_train)\n",
    "b=len(x_test)"
   ]
  },
  {
   "cell_type": "markdown",
   "id": "0da1ffa7",
   "metadata": {},
   "source": [
    "# Length of training set\n",
    "\n"
   ]
  },
  {
   "cell_type": "code",
   "execution_count": 10,
   "id": "db52ca19",
   "metadata": {},
   "outputs": [
    {
     "name": "stdout",
     "output_type": "stream",
     "text": [
      "79\n"
     ]
    }
   ],
   "source": [
    "print(a)"
   ]
  },
  {
   "cell_type": "markdown",
   "id": "e80e2ab6",
   "metadata": {},
   "source": [
    "# Length of test set"
   ]
  },
  {
   "cell_type": "code",
   "execution_count": 11,
   "id": "d885296d",
   "metadata": {},
   "outputs": [
    {
     "name": "stdout",
     "output_type": "stream",
     "text": [
      "12\n"
     ]
    }
   ],
   "source": [
    "print(b)"
   ]
  },
  {
   "cell_type": "markdown",
   "id": "0b00ad6c",
   "metadata": {},
   "source": [
    "# Add Layers"
   ]
  },
  {
   "cell_type": "code",
   "execution_count": 12,
   "id": "b691b34e",
   "metadata": {},
   "outputs": [],
   "source": [
    "#create model\n",
    "model=Sequential()"
   ]
  },
  {
   "cell_type": "markdown",
   "id": "68240b20",
   "metadata": {},
   "source": [
    "# Add The Convolution Layer"
   ]
  },
  {
   "cell_type": "code",
   "execution_count": null,
   "id": "fbf70cec",
   "metadata": {},
   "outputs": [],
   "source": [
    "model.add(Convolution2D(32,(3,3),input_shape=(64,64,1),activation='relu'))"
   ]
  }
 ],
 "metadata": {
  "kernelspec": {
   "display_name": "Python 3 (ipykernel)",
   "language": "python",
   "name": "python3"
  },
  "language_info": {
   "codemirror_mode": {
    "name": "ipython",
    "version": 3
   },
   "file_extension": ".py",
   "mimetype": "text/x-python",
   "name": "python",
   "nbconvert_exporter": "python",
   "pygments_lexer": "ipython3",
   "version": "3.9.13"
  }
 },
 "nbformat": 4,
 "nbformat_minor": 5
}
