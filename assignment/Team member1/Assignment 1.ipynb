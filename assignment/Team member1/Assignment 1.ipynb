{
 "cells": [
  {
   "cell_type": "markdown",
   "id": "8a30a7c0",
   "metadata": {},
   "source": [
    "# 1. Split this string"
   ]
  },
  {
   "cell_type": "code",
   "execution_count": 1,
   "id": "947649d9",
   "metadata": {},
   "outputs": [],
   "source": [
    "s = \"Hi there sam!\""
   ]
  },
  {
   "cell_type": "code",
   "execution_count": 2,
   "id": "c3fb3efd",
   "metadata": {},
   "outputs": [
    {
     "data": {
      "text/plain": [
       "['Hi', 'there', 'sam!']"
      ]
     },
     "execution_count": 2,
     "metadata": {},
     "output_type": "execute_result"
    }
   ],
   "source": [
    "s.split()"
   ]
  },
  {
   "cell_type": "markdown",
   "id": "ce795501",
   "metadata": {},
   "source": [
    "# 2. Use .format() to print the following string.\n",
    "Output should be: The diameter of Earth is 12742 kilometers."
   ]
  },
  {
   "cell_type": "code",
   "execution_count": 3,
   "id": "940d575a",
   "metadata": {},
   "outputs": [],
   "source": [
    "planet = \"Earth\"\n",
    "diameter = 12742"
   ]
  },
  {
   "cell_type": "code",
   "execution_count": 4,
   "id": "5c99149d",
   "metadata": {},
   "outputs": [
    {
     "name": "stdout",
     "output_type": "stream",
     "text": [
      "The diameter of Earth is 12742 kilometer.\n"
     ]
    }
   ],
   "source": [
    "print(\"The diameter of {} is {} kilometer.\".format(planet,diameter))"
   ]
  },
  {
   "cell_type": "markdown",
   "id": "913f1655",
   "metadata": {},
   "source": [
    "# 3. In this nest dictionary grab the word \"hello\""
   ]
  },
  {
   "cell_type": "code",
   "execution_count": 5,
   "id": "3ed4b381",
   "metadata": {},
   "outputs": [],
   "source": [
    "d = {'k1':[1,2,3,{'tricky':['oh','man','inception',{'target':[1,2,3,'hello']}]}]}"
   ]
  },
  {
   "cell_type": "code",
   "execution_count": 6,
   "id": "898faffe",
   "metadata": {},
   "outputs": [
    {
     "data": {
      "text/plain": [
       "'hello'"
      ]
     },
     "execution_count": 6,
     "metadata": {},
     "output_type": "execute_result"
    }
   ],
   "source": [
    "d['k1'][3]['tricky'][3]['target'][3]"
   ]
  },
  {
   "cell_type": "markdown",
   "id": "35817868",
   "metadata": {},
   "source": [
    "# Numpy"
   ]
  },
  {
   "cell_type": "code",
   "execution_count": 7,
   "id": "be1245c1",
   "metadata": {},
   "outputs": [],
   "source": [
    "import numpy as np"
   ]
  },
  {
   "cell_type": "markdown",
   "id": "80d7b1f4",
   "metadata": {},
   "source": [
    "# 4.1 Create an array of 10 zeros?\n"
   ]
  },
  {
   "cell_type": "markdown",
   "id": "4280fdaa",
   "metadata": {},
   "source": [
    "# 4.2 Create an array of 10 fives?"
   ]
  },
  {
   "cell_type": "code",
   "execution_count": 8,
   "id": "c5104c49",
   "metadata": {},
   "outputs": [
    {
     "data": {
      "text/plain": [
       "array([0, 0, 0, 0, 0, 0, 0, 0, 0, 0])"
      ]
     },
     "execution_count": 8,
     "metadata": {},
     "output_type": "execute_result"
    }
   ],
   "source": [
    "arr=np.array([0]*10)\n",
    "arr"
   ]
  },
  {
   "cell_type": "code",
   "execution_count": 9,
   "id": "96316300",
   "metadata": {},
   "outputs": [
    {
     "data": {
      "text/plain": [
       "array([5, 5, 5, 5, 5, 5, 5, 5, 5, 5])"
      ]
     },
     "execution_count": 9,
     "metadata": {},
     "output_type": "execute_result"
    }
   ],
   "source": [
    "arr=np.array([5]*10)\n",
    "arr"
   ]
  },
  {
   "cell_type": "markdown",
   "id": "ddb69833",
   "metadata": {},
   "source": [
    "# 5. Create an array of all the even integers from 20 to 35"
   ]
  },
  {
   "cell_type": "code",
   "execution_count": 10,
   "id": "932f77c9",
   "metadata": {},
   "outputs": [
    {
     "data": {
      "text/plain": [
       "array([20, 22, 24, 26, 28, 30, 32, 34])"
      ]
     },
     "execution_count": 10,
     "metadata": {},
     "output_type": "execute_result"
    }
   ],
   "source": [
    "arr=np.arange(20,35,2)\n",
    "arr"
   ]
  },
  {
   "cell_type": "markdown",
   "id": "59591e77",
   "metadata": {},
   "source": [
    "# 6. Create a 3x3 matrix with values ranging from 0 to 8"
   ]
  },
  {
   "cell_type": "code",
   "execution_count": 11,
   "id": "f64ea6d6",
   "metadata": {},
   "outputs": [
    {
     "data": {
      "text/plain": [
       "array([[0, 1, 2],\n",
       "       [3, 4, 5],\n",
       "       [6, 7, 8]])"
      ]
     },
     "execution_count": 11,
     "metadata": {},
     "output_type": "execute_result"
    }
   ],
   "source": [
    "arr=np.arange(0,8+1)\n",
    "arr.reshape(3,3)"
   ]
  },
  {
   "cell_type": "markdown",
   "id": "f7e12a98",
   "metadata": {},
   "source": [
    "# 7. Concatenate a and b"
   ]
  },
  {
   "cell_type": "markdown",
   "id": "d30c02ed",
   "metadata": {},
   "source": [
    "# a = np.array([1, 2, 3]), b = np.array([4, 5, 6])"
   ]
  },
  {
   "cell_type": "code",
   "execution_count": 12,
   "id": "ed7d802e",
   "metadata": {},
   "outputs": [
    {
     "data": {
      "text/plain": [
       "array([1, 2, 3, 4, 5, 6])"
      ]
     },
     "execution_count": 12,
     "metadata": {},
     "output_type": "execute_result"
    }
   ],
   "source": [
    "a=np.array([1,2,3])\n",
    "b=np.array([4,5,6])\n",
    "np.concatenate((a,b),axis=0)"
   ]
  },
  {
   "cell_type": "markdown",
   "id": "878d9388",
   "metadata": {},
   "source": [
    "# Pandas\n"
   ]
  },
  {
   "cell_type": "markdown",
   "id": "07fa1c50",
   "metadata": {},
   "source": [
    "# 8. Create a dataframe with 3 rows and 2 columns"
   ]
  },
  {
   "cell_type": "code",
   "execution_count": 14,
   "id": "15269766",
   "metadata": {},
   "outputs": [
    {
     "name": "stdout",
     "output_type": "stream",
     "text": [
      "Requirement already satisfied: pandas in c:\\users\\student\\anaconda3\\lib\\site-packages (1.4.2)\n",
      "Requirement already satisfied: pytz>=2020.1 in c:\\users\\student\\anaconda3\\lib\\site-packages (from pandas) (2021.3)\n",
      "Requirement already satisfied: python-dateutil>=2.8.1 in c:\\users\\student\\anaconda3\\lib\\site-packages (from pandas) (2.8.2)\n",
      "Requirement already satisfied: numpy>=1.18.5 in c:\\users\\student\\anaconda3\\lib\\site-packages (from pandas) (1.21.5)\n",
      "Requirement already satisfied: six>=1.5 in c:\\users\\student\\anaconda3\\lib\\site-packages (from python-dateutil>=2.8.1->pandas) (1.16.0)\n"
     ]
    }
   ],
   "source": [
    "!pip install pandas"
   ]
  },
  {
   "cell_type": "code",
   "execution_count": 15,
   "id": "7ffa9e82",
   "metadata": {},
   "outputs": [],
   "source": [
    "import pandas as pd"
   ]
  },
  {
   "cell_type": "code",
   "execution_count": 16,
   "id": "b39c7250",
   "metadata": {},
   "outputs": [
    {
     "data": {
      "text/html": [
       "<div>\n",
       "<style scoped>\n",
       "    .dataframe tbody tr th:only-of-type {\n",
       "        vertical-align: middle;\n",
       "    }\n",
       "\n",
       "    .dataframe tbody tr th {\n",
       "        vertical-align: top;\n",
       "    }\n",
       "\n",
       "    .dataframe thead th {\n",
       "        text-align: right;\n",
       "    }\n",
       "</style>\n",
       "<table border=\"1\" class=\"dataframe\">\n",
       "  <thead>\n",
       "    <tr style=\"text-align: right;\">\n",
       "      <th></th>\n",
       "      <th>C1</th>\n",
       "      <th>C2</th>\n",
       "    </tr>\n",
       "  </thead>\n",
       "  <tbody>\n",
       "    <tr>\n",
       "      <th>0</th>\n",
       "      <td>10</td>\n",
       "      <td>11</td>\n",
       "    </tr>\n",
       "    <tr>\n",
       "      <th>1</th>\n",
       "      <td>12</td>\n",
       "      <td>13</td>\n",
       "    </tr>\n",
       "    <tr>\n",
       "      <th>2</th>\n",
       "      <td>14</td>\n",
       "      <td>15</td>\n",
       "    </tr>\n",
       "  </tbody>\n",
       "</table>\n",
       "</div>"
      ],
      "text/plain": [
       "   C1  C2\n",
       "0  10  11\n",
       "1  12  13\n",
       "2  14  15"
      ]
     },
     "execution_count": 16,
     "metadata": {},
     "output_type": "execute_result"
    }
   ],
   "source": [
    "data=np.arange(10,16).reshape(3,2)\n",
    "df=pd.DataFrame(data,columns=[\"C1\",\"C2\"])\n",
    "df"
   ]
  },
  {
   "cell_type": "markdown",
   "id": "9786ba53",
   "metadata": {},
   "source": [
    "# 9. Generate the series of dates from 1st Jan, 2023 to 10th Feb, 2023"
   ]
  },
  {
   "cell_type": "code",
   "execution_count": 17,
   "id": "6161dd53",
   "metadata": {},
   "outputs": [
    {
     "data": {
      "text/plain": [
       "DatetimeIndex(['2023-01-01', '2023-01-02', '2023-01-03', '2023-01-04',\n",
       "               '2023-01-05', '2023-01-06', '2023-01-07', '2023-01-08',\n",
       "               '2023-01-09', '2023-01-10', '2023-01-11', '2023-01-12',\n",
       "               '2023-01-13', '2023-01-14', '2023-01-15', '2023-01-16',\n",
       "               '2023-01-17', '2023-01-18', '2023-01-19', '2023-01-20',\n",
       "               '2023-01-21', '2023-01-22', '2023-01-23', '2023-01-24',\n",
       "               '2023-01-25', '2023-01-26', '2023-01-27', '2023-01-28',\n",
       "               '2023-01-29', '2023-01-30', '2023-01-31', '2023-02-01',\n",
       "               '2023-02-02', '2023-02-03', '2023-02-04', '2023-02-05',\n",
       "               '2023-02-06', '2023-02-07', '2023-02-08', '2023-02-09',\n",
       "               '2023-02-10'],\n",
       "              dtype='datetime64[ns]', freq='D')"
      ]
     },
     "execution_count": 17,
     "metadata": {},
     "output_type": "execute_result"
    }
   ],
   "source": [
    "pd.date_range(end=\"2023-02-10\",start=\"2023-01-01\")"
   ]
  },
  {
   "cell_type": "markdown",
   "id": "ff5dc3a7",
   "metadata": {},
   "source": [
    "# 10. Create 2D list to DataFrame"
   ]
  },
  {
   "cell_type": "markdown",
   "id": "914bcdd8",
   "metadata": {},
   "source": [
    "# lists = [[1, 'aaa', 25], [2, 'bbb', 26], [3, 'ccc', 27]]"
   ]
  },
  {
   "cell_type": "code",
   "execution_count": 18,
   "id": "f4ce68b6",
   "metadata": {},
   "outputs": [],
   "source": [
    "lists = [[1, 'aaa', 25], [2, 'bbb', 26], [3, 'ccc', 27]]"
   ]
  },
  {
   "cell_type": "code",
   "execution_count": 19,
   "id": "cc128408",
   "metadata": {},
   "outputs": [
    {
     "data": {
      "text/html": [
       "<div>\n",
       "<style scoped>\n",
       "    .dataframe tbody tr th:only-of-type {\n",
       "        vertical-align: middle;\n",
       "    }\n",
       "\n",
       "    .dataframe tbody tr th {\n",
       "        vertical-align: top;\n",
       "    }\n",
       "\n",
       "    .dataframe thead th {\n",
       "        text-align: right;\n",
       "    }\n",
       "</style>\n",
       "<table border=\"1\" class=\"dataframe\">\n",
       "  <thead>\n",
       "    <tr style=\"text-align: right;\">\n",
       "      <th></th>\n",
       "      <th>sno</th>\n",
       "      <th>name</th>\n",
       "      <th>age</th>\n",
       "    </tr>\n",
       "  </thead>\n",
       "  <tbody>\n",
       "    <tr>\n",
       "      <th>0</th>\n",
       "      <td>1</td>\n",
       "      <td>aaa</td>\n",
       "      <td>25</td>\n",
       "    </tr>\n",
       "    <tr>\n",
       "      <th>1</th>\n",
       "      <td>2</td>\n",
       "      <td>bbb</td>\n",
       "      <td>26</td>\n",
       "    </tr>\n",
       "    <tr>\n",
       "      <th>2</th>\n",
       "      <td>3</td>\n",
       "      <td>ccc</td>\n",
       "      <td>27</td>\n",
       "    </tr>\n",
       "  </tbody>\n",
       "</table>\n",
       "</div>"
      ],
      "text/plain": [
       "   sno name  age\n",
       "0    1  aaa   25\n",
       "1    2  bbb   26\n",
       "2    3  ccc   27"
      ]
     },
     "execution_count": 19,
     "metadata": {},
     "output_type": "execute_result"
    }
   ],
   "source": [
    "pd.DataFrame(lists,columns=[\"sno\",\"name\",\"age\"])"
   ]
  },
  {
   "cell_type": "code",
   "execution_count": null,
   "id": "3fb3d816",
   "metadata": {},
   "outputs": [],
   "source": []
  }
 ],
 "metadata": {
  "kernelspec": {
   "display_name": "Python 3 (ipykernel)",
   "language": "python",
   "name": "python3"
  },
  "language_info": {
   "codemirror_mode": {
    "name": "ipython",
    "version": 3
   },
   "file_extension": ".py",
   "mimetype": "text/x-python",
   "name": "python",
   "nbconvert_exporter": "python",
   "pygments_lexer": "ipython3",
   "version": "3.9.12"
  }
 },
 "nbformat": 4,
 "nbformat_minor": 5
}
