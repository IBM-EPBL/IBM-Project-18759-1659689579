{
 "cells": [
  {
   "cell_type": "markdown",
   "id": "0f63bfee",
   "metadata": {},
   "source": [
    "# Exercises"
   ]
  },
  {
   "cell_type": "markdown",
   "id": "7f1fe79c",
   "metadata": {},
   "source": [
    "Answer the questions or complete the tasks outlined in bold below, use the specific method described if applicable.\n",
    "\n",
    "** What is 7 to the power of 4?**"
   ]
  },
  {
   "cell_type": "code",
   "execution_count": 1,
   "id": "e315a4db",
   "metadata": {},
   "outputs": [
    {
     "data": {
      "text/plain": [
       "2401"
      ]
     },
     "execution_count": 1,
     "metadata": {},
     "output_type": "execute_result"
    }
   ],
   "source": [
    "7**4"
   ]
  },
  {
   "cell_type": "code",
   "execution_count": 2,
   "id": "fae28675",
   "metadata": {},
   "outputs": [
    {
     "ename": "SyntaxError",
     "evalue": "invalid syntax (2105407487.py, line 1)",
     "output_type": "error",
     "traceback": [
      "\u001b[1;36m  Cell \u001b[1;32mIn [2], line 1\u001b[1;36m\u001b[0m\n\u001b[1;33m    ** Split this string:**\u001b[0m\n\u001b[1;37m    ^\u001b[0m\n\u001b[1;31mSyntaxError\u001b[0m\u001b[1;31m:\u001b[0m invalid syntax\n"
     ]
    }
   ],
   "source": [
    "** Split this string:**\n",
    "\n",
    "s = \"Hi there Sam!\""
   ]
  },
  {
   "cell_type": "markdown",
   "id": "39aabde7",
   "metadata": {},
   "source": [
    "# into a list."
   ]
  },
  {
   "cell_type": "code",
   "execution_count": 3,
   "id": "954e745d",
   "metadata": {},
   "outputs": [],
   "source": [
    "s = \"Hi there dad!\""
   ]
  },
  {
   "cell_type": "code",
   "execution_count": 4,
   "id": "cb474741",
   "metadata": {},
   "outputs": [
    {
     "data": {
      "text/plain": [
       "['Hi', 'there', 'dad!']"
      ]
     },
     "execution_count": 4,
     "metadata": {},
     "output_type": "execute_result"
    }
   ],
   "source": [
    "s.split()"
   ]
  },
  {
   "cell_type": "markdown",
   "id": "26e6cf13",
   "metadata": {},
   "source": [
    "** Given the variables:**\n",
    "\n",
    "planet = \"Earth\"\n",
    "diameter = 12742\n",
    "\n",
    "** Use .format() to print the following string: **\n",
    "\n",
    "The diameter of Earth is 12742 kilometers."
   ]
  },
  {
   "cell_type": "code",
   "execution_count": 5,
   "id": "6c769091",
   "metadata": {},
   "outputs": [],
   "source": [
    "planet = \"Earth\"\n",
    "diameter = 12742"
   ]
  },
  {
   "cell_type": "code",
   "execution_count": 6,
   "id": "40b0090c",
   "metadata": {},
   "outputs": [
    {
     "name": "stdout",
     "output_type": "stream",
     "text": [
      "The diameter of Earth is 12742 kilometers.\n"
     ]
    }
   ],
   "source": [
    "print(\"The diameter of {} is {} kilometers.\".format(planet,diameter))"
   ]
  },
  {
   "cell_type": "markdown",
   "id": "720a2d5a",
   "metadata": {},
   "source": [
    "** Given this nested list, use indexing to grab the word \"hello\" **"
   ]
  },
  {
   "cell_type": "code",
   "execution_count": 7,
   "id": "64b7ff06",
   "metadata": {},
   "outputs": [],
   "source": [
    "lst = [1,2,[3,4],[5,[100,200,['hello']],23,11],1,7]"
   ]
  },
  {
   "cell_type": "code",
   "execution_count": 8,
   "id": "38255eb2",
   "metadata": {},
   "outputs": [
    {
     "name": "stdout",
     "output_type": "stream",
     "text": [
      "['hello']\n"
     ]
    }
   ],
   "source": [
    "l = [1,2,[3,4],[5,[100,200,['hello']],23,11],1,7]\n",
    "print(l[3][1][2])"
   ]
  },
  {
   "cell_type": "markdown",
   "id": "59ee3c2c",
   "metadata": {},
   "source": [
    "** Given this nest dictionary grab the word \"hello\". Be prepared, this will be annoying/tricky **"
   ]
  },
  {
   "cell_type": "code",
   "execution_count": 9,
   "id": "fb7b49e8",
   "metadata": {},
   "outputs": [],
   "source": [
    "d = {'k1':[1,2,3,{'tricky':['oh','man','inception',{'target':[1,2,3,'hello']}]}]}"
   ]
  },
  {
   "cell_type": "code",
   "execution_count": 10,
   "id": "77212608",
   "metadata": {},
   "outputs": [
    {
     "name": "stdout",
     "output_type": "stream",
     "text": [
      "hello\n"
     ]
    }
   ],
   "source": [
    "print(d['k1'][3]['tricky'][3]['target'][3])"
   ]
  },
  {
   "cell_type": "markdown",
   "id": "6a25a616",
   "metadata": {},
   "source": [
    "** What is the main difference between a tuple and a list? **"
   ]
  },
  {
   "cell_type": "code",
   "execution_count": 11,
   "id": "e244e077",
   "metadata": {},
   "outputs": [],
   "source": [
    "# List is dynamic whereas tuple is a static in characteristics\n",
    "# List ins mutable wheras tuple is mutable\n",
    "# List is used using [] brackets whereas Tuple is used using ()"
   ]
  },
  {
   "cell_type": "markdown",
   "id": "c03459c1",
   "metadata": {},
   "source": [
    "** Create a function that grabs the email website domain from a string in the form: **\n",
    "\n",
    "user@domain.com\n"
   ]
  },
  {
   "cell_type": "markdown",
   "id": "4e161939",
   "metadata": {},
   "source": [
    "# So for example, passing \"user@domain.com\" would return: domain.com"
   ]
  },
  {
   "cell_type": "code",
   "execution_count": 12,
   "id": "7c7ca965",
   "metadata": {},
   "outputs": [],
   "source": [
    "d=\"user@domain.com\""
   ]
  },
  {
   "cell_type": "code",
   "execution_count": 13,
   "id": "4c6ce2e6",
   "metadata": {},
   "outputs": [
    {
     "name": "stdout",
     "output_type": "stream",
     "text": [
      "domain.com\n"
     ]
    }
   ],
   "source": [
    "def fun(d):\n",
    "  a=\"\"\n",
    "  res= False\n",
    "  for i in d:\n",
    "    if(res):\n",
    "      a+=i\n",
    "    if(i==\"@\"):\n",
    "      res = True\n",
    "  return a\n",
    "  \n",
    "print(fun(d))"
   ]
  },
  {
   "cell_type": "markdown",
   "id": "18a99260",
   "metadata": {},
   "source": [
    "** Create a basic function that returns True if the word 'dog' is contained in the input string. Don't worry about edge cases like a punctuation being attached to the word dog, but do account for capitalization. **"
   ]
  },
  {
   "cell_type": "code",
   "execution_count": 14,
   "id": "14a1ca4d",
   "metadata": {},
   "outputs": [],
   "source": [
    "sentence =\"My Dog name is Dora\"\n",
    "word = \"Dog\""
   ]
  },
  {
   "cell_type": "code",
   "execution_count": 15,
   "id": "f125cce3",
   "metadata": {},
   "outputs": [
    {
     "name": "stdout",
     "output_type": "stream",
     "text": [
      "True\n"
     ]
    }
   ],
   "source": [
    "def res(sentence,word):\n",
    "  s=sentence.split(\" \")\n",
    "  for i in s:\n",
    "    if(i==word):\n",
    "      return True\n",
    "  return False\n",
    "\n",
    "if(res(sentence,word)):\n",
    "  print(\"True\")\n",
    "else:\n",
    "  print(\"False\")"
   ]
  },
  {
   "cell_type": "markdown",
   "id": "7be12cba",
   "metadata": {},
   "source": [
    "** Create a function that counts the number of times the word \"dog\" occurs in a string. Again ignore edge cases. **"
   ]
  },
  {
   "cell_type": "code",
   "execution_count": 16,
   "id": "e6a517be",
   "metadata": {},
   "outputs": [],
   "source": [
    "str1 =\"Dog is a pet and i love Dog\"\n",
    "word =\"Dog\""
   ]
  },
  {
   "cell_type": "code",
   "execution_count": 17,
   "id": "90060444",
   "metadata": {},
   "outputs": [
    {
     "name": "stdout",
     "output_type": "stream",
     "text": [
      "0\n"
     ]
    }
   ],
   "source": [
    "def res(str1, word):\n",
    "    a = str1.split(\" \")\n",
    "    c = 0\n",
    "    for i in range(0, len(a)):\n",
    "        if (word == a[i]):\n",
    "           c = c+ 1           \n",
    "    return c      \n",
    "\n",
    "print(res(str, word))"
   ]
  },
  {
   "cell_type": "markdown",
   "id": "5a5cafe9",
   "metadata": {},
   "source": [
    "# Problem"
   ]
  },
  {
   "cell_type": "markdown",
   "id": "9ff3844c",
   "metadata": {},
   "source": [
    "You are driving a little too fast, and a police officer stops you. Write a function to return one of 3 possible results: \"No ticket\", \"Small ticket\", or \"Big Ticket\". If your speed is 60 or less, the result is \"No Ticket\". If speed is between 61 and 80 inclusive, the result is \"Small Ticket\". If speed is 81 or more, the result is \"Big Ticket\". Unless it is your birthday (encoded as a boolean value in the parameters of the function) -- on your birthday, your speed can be 5 higher in all cases."
   ]
  },
  {
   "cell_type": "code",
   "execution_count": 18,
   "id": "2a8e8bd9",
   "metadata": {},
   "outputs": [],
   "source": [
    "def caught_speeding(speed, is_birthday):\n",
    "    \n",
    "    if is_birthday:\n",
    "        speeding = speed - 5\n",
    "    else:\n",
    "        speeding = speed\n",
    "    \n",
    "    if speeding > 80:\n",
    "        return 'Big Ticket'\n",
    "    elif speeding > 60:\n",
    "        return 'Small Ticket'\n",
    "    else:\n",
    "        return 'No Ticket'"
   ]
  },
  {
   "cell_type": "code",
   "execution_count": 19,
   "id": "c66f4865",
   "metadata": {},
   "outputs": [
    {
     "name": "stdout",
     "output_type": "stream",
     "text": [
      "Big Ticket\n"
     ]
    }
   ],
   "source": [
    "def caught_speeding(speed, is_birthday):\n",
    "    \n",
    "    if is_birthday:\n",
    "        speeding = speed - 5\n",
    "    else:\n",
    "        speeding = speed\n",
    "    \n",
    "    if speeding > 80:\n",
    "        return 'Big Ticket'\n",
    "    elif speeding > 60:\n",
    "        return 'Small Ticket'\n",
    "    else:\n",
    "        return 'No Ticket'\n",
    "print(caught_speeding(200,True))"
   ]
  },
  {
   "cell_type": "code",
   "execution_count": 21,
   "id": "82986ee3",
   "metadata": {},
   "outputs": [
    {
     "name": "stdout",
     "output_type": "stream",
     "text": [
      "Small Ticket\n"
     ]
    }
   ],
   "source": [
    "def caught_speeding(speed, is_birthday):\n",
    "    \n",
    "    if is_birthday:\n",
    "        speeding = speed - 5\n",
    "    else:\n",
    "        speeding = speed\n",
    "    \n",
    "    if speeding > 80:\n",
    "        return 'Big Ticket'\n",
    "    elif speeding > 60:\n",
    "        return 'Small Ticket'\n",
    "    else:\n",
    "        return 'No Ticket'\n",
    "print(caught_speeding(71,False))"
   ]
  },
  {
   "cell_type": "markdown",
   "id": "e564ee25",
   "metadata": {},
   "source": [
    "Create an employee list with basic salary values(at least 5 values for 5 employees) and using a for loop retreive each employee salary and calculate total salary expenditure."
   ]
  },
  {
   "cell_type": "code",
   "execution_count": null,
   "id": "a59e74ee",
   "metadata": {},
   "outputs": [],
   "source": [
    "employees = [\"mohan\",\"manoj\", \"harish\", \"bhala\", \"dinesh\"]\n",
    "salary={}\n",
    "for emp in employees:\n",
    "  amount=int(input(f'Enter salary for {emp}: '))\n",
    "  salary[emp]=amount\n",
    "print('Total salary ', sum(salary.values()))"
   ]
  },
  {
   "cell_type": "markdown",
   "id": "ec65373c",
   "metadata": {},
   "source": [
    "Create two dictionaries in Python:\n",
    "\n",
    "First one to contain fields as Empid, Empname, Basicpay\n",
    "\n",
    "Second dictionary to contain fields as DeptName, DeptId.\n",
    "\n",
    "Combine both dictionaries."
   ]
  },
  {
   "cell_type": "code",
   "execution_count": 1,
   "id": "b449da47",
   "metadata": {},
   "outputs": [
    {
     "name": "stdout",
     "output_type": "stream",
     "text": [
      "{'Empid': 401, 'Empname': 'Manoj', 'Basicpay': 10000, 'DeptName': 'Excecutive', 'Deptid': 12345}\n"
     ]
    }
   ],
   "source": [
    "x={'Empid' : 401, 'Empname':\"Manoj\",\"Basicpay\": 10000}\n",
    "y= {'DeptName': \"Excecutive\", 'Deptid': 12345}\n",
    "def res(x,y):\n",
    "  z=x.copy()\n",
    "  z.update(y)\n",
    "  return z\n",
    "z=res(x,y)\n",
    "print(z)"
   ]
  }
 ],
 "metadata": {
  "kernelspec": {
   "display_name": "Python 3 (ipykernel)",
   "language": "python",
   "name": "python3"
  },
  "language_info": {
   "codemirror_mode": {
    "name": "ipython",
    "version": 3
   },
   "file_extension": ".py",
   "mimetype": "text/x-python",
   "name": "python",
   "nbconvert_exporter": "python",
   "pygments_lexer": "ipython3",
   "version": "3.10.7"
  }
 },
 "nbformat": 4,
 "nbformat_minor": 5
}
